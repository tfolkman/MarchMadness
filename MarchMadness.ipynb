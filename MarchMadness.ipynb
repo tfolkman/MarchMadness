{
 "metadata": {
  "name": ""
 },
 "nbformat": 3,
 "nbformat_minor": 0,
 "worksheets": [
  {
   "cells": [
    {
     "cell_type": "code",
     "collapsed": false,
     "input": [
      "##LOAD PACKAGES\n",
      "\n",
      "import glob, pandas as pd\n",
      "from pylab import *\n",
      "import numpy as np\n",
      "\n",
      "#SETTINGS\n",
      "\n",
      "%matplotlib inline"
     ],
     "language": "python",
     "metadata": {},
     "outputs": [],
     "prompt_number": 3
    },
    {
     "cell_type": "code",
     "collapsed": false,
     "input": [
      "##READ IN DATA\n",
      "\n",
      "regularSeasonResults = pd.read_csv('./Raw Data\\\\regular_season_results.csv')\n",
      "seasons = pd.read_csv('./Raw Data\\\\seasons.csv')\n",
      "teams = pd.read_csv('./Raw Data\\\\teams.csv')\n",
      "tourneyResults = pd.read_csv('./Raw Data\\\\tourney_results.csv')\n",
      "tourneySeeds = pd.read_csv('./Raw Data\\\\tourney_seeds.csv')\n",
      "tourneySlots = pd.read_csv('./Raw Data\\\\tourney_slots.csv')"
     ],
     "language": "python",
     "metadata": {},
     "outputs": [],
     "prompt_number": 5
    },
    {
     "cell_type": "code",
     "collapsed": false,
     "input": [
      "#TRY AND CALCULATE RPI FOR ID = 673 FOR FIRST 99 GAMES OF SEASON A\n",
      "\n",
      "#EXTRACT DATA\n",
      "team673 = regularSeasonResults[((regularSeasonResults['wteam'] == 673) | (regularSeasonResults['lteam'] == 673))\n",
      "                               & (regularSeasonResults['season'] == \"A\") & (regularSeasonResults['daynum'] < 100)]\n",
      "team673 = team673.sort('daynum')\n",
      "\n",
      "#CALCULATE WEIGHTED NUM WINS\n",
      "team673_w = team673[team673['wteam'] == 673].groupby([\"wloc\"]).count()\n",
      "winWeights = pd.DataFrame({'weight': [1.4,1,.6]}, index=[\"A\",\"N\",\"H\"])\n",
      "team673_w2 = team673_w.join(winWeights)\n",
      "weightedWins = team673_w2.season * team673_w2.weight\n",
      "weightedWins = weightedWins.sum()\n",
      "\n",
      "#CALCULATE WEIgHTED NUM LOSSES\n",
      "team673_l = team673[team673['lteam'] == 673].groupby([\"wloc\"]).count()\n",
      "team673_l2 = team673_l.join(winWeights) #Can use win wieghts here because switches with losses\n",
      "weightedLosses = team673_l2.season * team673_l2.weight\n",
      "weightedLosses = weightedLosses.sum()\n",
      "\n",
      "#CALCULATE WP\n",
      "wp = weightedWins / (weightedLosses + weightedWins)\n",
      "\n",
      "#GET LIST OF OPPONENTS\n",
      "uniqueWTeam = team673['wteam'].unique()\n",
      "uniqueLTeam = team673['lteam'].unique()\n",
      "uniqueTeams = np.concatenate([uniqueLTeam,uniqueWTeam])\n",
      "uniqueTeams2 = uniqueTeams[uniqueTeams != 673]\n",
      "\n",
      "#ITERATE OVER ARRAY OF OPPONENTS TO GET AVERAGE OWP\n",
      "allOwp = []\n",
      "for opponent in uniqueTeams2:\n",
      "    \n",
      "    team = regularSeasonResults[((regularSeasonResults['wteam'] == opponent) | (regularSeasonResults['lteam'] == opponent))\n",
      "                               & (regularSeasonResults['wteam'] != 673) & (regularSeasonResults['lteam'] != 673)\n",
      "                               & (regularSeasonResults['season'] == \"A\") & (regularSeasonResults['daynum'] < 100)]\n",
      "    losses = team[team['lteam'] == opponent]\n",
      "    numLosses = losses.season.count()\n",
      "    wins = team[team['wteam'] == opponent]\n",
      "    numWins = wins.season.count()\n",
      "    owp = float(numWins) / (numWins + numLosses)\n",
      "    allOwp.append(owp)\n",
      "avgOwp = float(sum(allOwp)) / len(allOwp)\n"
     ],
     "language": "python",
     "metadata": {},
     "outputs": [],
     "prompt_number": 172
    },
    {
     "cell_type": "code",
     "collapsed": false,
     "input": [
      "avgOwp"
     ],
     "language": "python",
     "metadata": {},
     "outputs": [
      {
       "metadata": {},
       "output_type": "pyout",
       "prompt_number": 173,
       "text": [
        "0.5974402094702848"
       ]
      }
     ],
     "prompt_number": 173
    },
    {
     "cell_type": "code",
     "collapsed": false,
     "input": [],
     "language": "python",
     "metadata": {},
     "outputs": [],
     "prompt_number": 2
    },
    {
     "cell_type": "markdown",
     "metadata": {},
     "source": []
    },
    {
     "cell_type": "code",
     "collapsed": false,
     "input": [],
     "language": "python",
     "metadata": {},
     "outputs": []
    }
   ],
   "metadata": {}
  }
 ]
}