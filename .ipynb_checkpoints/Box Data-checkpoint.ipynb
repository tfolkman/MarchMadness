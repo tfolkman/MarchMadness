{
 "metadata": {
  "name": ""
 },
 "nbformat": 3,
 "nbformat_minor": 0,
 "worksheets": [
  {
   "cells": [
    {
     "cell_type": "code",
     "collapsed": false,
     "input": [
      "import numpy as np\n",
      "import pandas as pd\n",
      "from pandas import DataFrame, Series\n",
      "from matplotlib import pyplot as plt\n",
      "import glob\n",
      "import datetime"
     ],
     "language": "python",
     "metadata": {},
     "outputs": [],
     "prompt_number": 1
    },
    {
     "cell_type": "code",
     "collapsed": false,
     "input": [
      "#READ IN DATA\n",
      "\n",
      "fileList = glob.glob(\"./ScrapeData/Output/*.csv\")\n",
      "dfList = [pd.read_csv(f) for f in fileList]\n",
      "allBox = pd.concat(dfList)\n",
      "allBox.set_index(pd.to_datetime(allBox.pop('Date')),inplace=True)\n",
      "\n",
      "#ADD GAME VARIABLE\n",
      "allBox = allBox.sort()\n",
      "games = np.arange(len(allBox.index))\n",
      "allBox['Game'] = games"
     ],
     "language": "python",
     "metadata": {},
     "outputs": [],
     "prompt_number": 2
    },
    {
     "cell_type": "code",
     "collapsed": false,
     "input": [
      "#CREATE ONE SERIES OF STATS BY DATE SCHOOL\n",
      "\n",
      "origCols = allBox.columns.values\n",
      "school1Cols = [col for col in origCols if 'School1' in col]\n",
      "school1Cols.append('Game')\n",
      "school2Cols = [col for col in origCols if 'School2' in col]\n",
      "school2Cols.append('Game')\n",
      "school1 = allBox[school1Cols]\n",
      "school2 = allBox[school2Cols]\n",
      "school1.columns = [col.replace('School1','Team') for col in school1Cols]\n",
      "school2.columns = [col.replace('School2','Team') for col in school2Cols]\n",
      "stats = school1.append(school2)"
     ],
     "language": "python",
     "metadata": {},
     "outputs": [],
     "prompt_number": 79
    },
    {
     "cell_type": "code",
     "collapsed": false,
     "input": [
      "#GET A TEAM AND TRY AND CALCULATE LAGS\n",
      "\n",
      "team = stats[stats['Team'] == 'Brigham Young']\n",
      "team['RA'] = pd.rolling_mean(team.Team_ORTG,1).shift(1)\n",
      "statsAdd = pd.merge(stats,team[['Team','RA']],on='Team',left_index=True,right_index=True)"
     ],
     "language": "python",
     "metadata": {},
     "outputs": [],
     "prompt_number": 92
    },
    {
     "cell_type": "code",
     "collapsed": false,
     "input": [
      "t = statsAdd.ix[statsAdd['Team'] == \"Brigham Young\"]\n",
      "t[[\"Team_ORTG\",\"RA\"]].head()"
     ],
     "language": "python",
     "metadata": {},
     "outputs": [
      {
       "html": [
        "<div style=\"max-height:1000px;max-width:1500px;overflow:auto;\">\n",
        "<table border=\"1\" class=\"dataframe\">\n",
        "  <thead>\n",
        "    <tr style=\"text-align: right;\">\n",
        "      <th></th>\n",
        "      <th>Team_ORTG</th>\n",
        "      <th>RA</th>\n",
        "    </tr>\n",
        "    <tr>\n",
        "      <th>Date</th>\n",
        "      <th></th>\n",
        "      <th></th>\n",
        "    </tr>\n",
        "  </thead>\n",
        "  <tbody>\n",
        "    <tr>\n",
        "      <th>2010-11-12</th>\n",
        "      <td> 107.8</td>\n",
        "      <td> 106.2</td>\n",
        "    </tr>\n",
        "    <tr>\n",
        "      <th>2010-11-17</th>\n",
        "      <td> 108.3</td>\n",
        "      <td> 107.8</td>\n",
        "    </tr>\n",
        "    <tr>\n",
        "      <th>2010-11-20</th>\n",
        "      <td> 122.5</td>\n",
        "      <td> 108.3</td>\n",
        "    </tr>\n",
        "    <tr>\n",
        "      <th>2010-11-23</th>\n",
        "      <td> 102.4</td>\n",
        "      <td> 122.5</td>\n",
        "    </tr>\n",
        "    <tr>\n",
        "      <th>2010-11-26</th>\n",
        "      <td>  96.3</td>\n",
        "      <td> 102.4</td>\n",
        "    </tr>\n",
        "  </tbody>\n",
        "</table>\n",
        "</div>"
       ],
       "metadata": {},
       "output_type": "pyout",
       "prompt_number": 99,
       "text": [
        "            Team_ORTG     RA\n",
        "Date                        \n",
        "2010-11-12      107.8  106.2\n",
        "2010-11-17      108.3  107.8\n",
        "2010-11-20      122.5  108.3\n",
        "2010-11-23      102.4  122.5\n",
        "2010-11-26       96.3  102.4"
       ]
      }
     ],
     "prompt_number": 99
    },
    {
     "cell_type": "code",
     "collapsed": false,
     "input": [
      "team[[\"Team_ORTG\",\"RA\"]].sort().head()"
     ],
     "language": "python",
     "metadata": {},
     "outputs": [
      {
       "html": [
        "<div style=\"max-height:1000px;max-width:1500px;overflow:auto;\">\n",
        "<table border=\"1\" class=\"dataframe\">\n",
        "  <thead>\n",
        "    <tr style=\"text-align: right;\">\n",
        "      <th></th>\n",
        "      <th>Team_ORTG</th>\n",
        "      <th>RA</th>\n",
        "    </tr>\n",
        "    <tr>\n",
        "      <th>Date</th>\n",
        "      <th></th>\n",
        "      <th></th>\n",
        "    </tr>\n",
        "  </thead>\n",
        "  <tbody>\n",
        "    <tr>\n",
        "      <th>2010-11-12</th>\n",
        "      <td> 107.8</td>\n",
        "      <td> 106.2</td>\n",
        "    </tr>\n",
        "    <tr>\n",
        "      <th>2010-11-17</th>\n",
        "      <td> 108.3</td>\n",
        "      <td> 107.8</td>\n",
        "    </tr>\n",
        "    <tr>\n",
        "      <th>2010-11-20</th>\n",
        "      <td> 122.5</td>\n",
        "      <td> 108.3</td>\n",
        "    </tr>\n",
        "    <tr>\n",
        "      <th>2010-11-23</th>\n",
        "      <td> 102.4</td>\n",
        "      <td> 122.5</td>\n",
        "    </tr>\n",
        "    <tr>\n",
        "      <th>2010-11-26</th>\n",
        "      <td>  96.3</td>\n",
        "      <td> 102.4</td>\n",
        "    </tr>\n",
        "  </tbody>\n",
        "</table>\n",
        "</div>"
       ],
       "metadata": {},
       "output_type": "pyout",
       "prompt_number": 102,
       "text": [
        "            Team_ORTG     RA\n",
        "Date                        \n",
        "2010-11-12      107.8  106.2\n",
        "2010-11-17      108.3  107.8\n",
        "2010-11-20      122.5  108.3\n",
        "2010-11-23      102.4  122.5\n",
        "2010-11-26       96.3  102.4"
       ]
      }
     ],
     "prompt_number": 102
    },
    {
     "cell_type": "code",
     "collapsed": false,
     "input": [],
     "language": "python",
     "metadata": {},
     "outputs": []
    }
   ],
   "metadata": {}
  }
 ]
}