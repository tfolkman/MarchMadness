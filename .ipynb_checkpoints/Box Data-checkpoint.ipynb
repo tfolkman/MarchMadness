{
 "metadata": {
  "name": ""
 },
 "nbformat": 3,
 "nbformat_minor": 0,
 "worksheets": [
  {
   "cells": [
    {
     "cell_type": "code",
     "collapsed": false,
     "input": [
      "import numpy as np\n",
      "import pandas as pd\n",
      "from pandas import DataFrame, Series\n",
      "from matplotlib import pyplot as plt\n",
      "import glob\n",
      "import datetime\n",
      "from sklearn.ensemble import RandomForestClassifier"
     ],
     "language": "python",
     "metadata": {},
     "outputs": [],
     "prompt_number": 1
    },
    {
     "cell_type": "code",
     "collapsed": false,
     "input": [
      "#READ IN DATA\n",
      "\n",
      "fileList = glob.glob(\"./ScrapeData/Output/*.csv\")\n",
      "dfList = [pd.read_csv(f) for f in fileList]\n",
      "allBox = pd.concat(dfList)\n",
      "allBox.set_index(pd.to_datetime(allBox.pop('Date')),inplace=True)\n",
      "\n",
      "#ADD GAME VARIABLE AND W/L VAR\n",
      "allBox = allBox.sort()\n",
      "games = np.arange(len(allBox.index))\n",
      "allBox['Game'] = games\n",
      "allBox['School1_WL'] = np.where(allBox['School1_PTS'] > allBox['School2_PTS'],'W','L')\n",
      "allBox['School2_WL'] = np.where(allBox['School2_PTS'] > allBox['School1_PTS'],'W','L')"
     ],
     "language": "python",
     "metadata": {},
     "outputs": [],
     "prompt_number": 2
    },
    {
     "cell_type": "code",
     "collapsed": false,
     "input": [
      "#CREATE ONE SERIES OF STATS BY DATE SCHOOL\n",
      "\n",
      "origCols = allBox.columns.values\n",
      "school1Cols = [col for col in origCols if 'School1' in col]\n",
      "school1Cols.append('Game')\n",
      "school2Cols = [col for col in origCols if 'School2' in col]\n",
      "school2Cols.append('Game')\n",
      "school1 = allBox[school1Cols]\n",
      "school2 = allBox[school2Cols]\n",
      "school1.columns = [col.replace('School1','Team') for col in school1Cols]\n",
      "school2.columns = [col.replace('School2','Team') for col in school2Cols]\n",
      "school1['School'] = 1\n",
      "school2['School'] = 2\n",
      "stats = school1.append(school2)"
     ],
     "language": "python",
     "metadata": {},
     "outputs": [],
     "prompt_number": 3
    },
    {
     "cell_type": "code",
     "collapsed": false,
     "input": [
      "#GET LAGGED Four Factors by Team\n",
      "\n",
      "teamLag = []\n",
      "lagVars = ['Team_Pace','Team_eFG%','Team_TOV%','Team_ORB%','Team_FT/FGA','Team_ORTG']\n",
      "stdVars = ['Team','Team_PTS','Game','Team_WL','School']\n",
      "groupedTeam = stats.groupby('Team')\n",
      "for name, group in groupedTeam:\n",
      "    team = group[lagVars + stdVars]\n",
      "    team.sort()\n",
      "    for var in lagVars:\n",
      "        team['Lag1_{0}'.format(var)] = pd.rolling_mean(team['{0}'.format(var)],1).shift(1)\n",
      "    teamLag.append(team)\n",
      "fourFactors = pd.concat(teamLag)"
     ],
     "language": "python",
     "metadata": {},
     "outputs": [],
     "prompt_number": 4
    },
    {
     "cell_type": "code",
     "collapsed": false,
     "input": [
      "#NOW BREAK INTO WIN\n",
      "\n",
      "ff1 = fourFactors[fourFactors['School'] == 1]\n",
      "ff2 = fourFactors[fourFactors['School'] == 2] \n",
      "ff1.columns = [col.replace('Team','School1') for col in ff1.columns]\n",
      "ff2.columns = [col.replace('Team','School2') for col in ff2.columns]\n",
      "combined = pd.merge(ff1,ff2,on='Game',left_index=True)\n",
      "\n",
      "#JUST LOOK at 2014 for now\n",
      "\n",
      "combined= combined['2013'].dropna()"
     ],
     "language": "python",
     "metadata": {},
     "outputs": [],
     "prompt_number": 82
    },
    {
     "cell_type": "code",
     "collapsed": false,
     "input": [
      "#DO A RANDOM FOREST CLASSIFIER\n",
      "\n",
      "combined['is_train'] = np.random.uniform(0, 1, len(combined)) <= .75\n",
      "train, test = combined[combined['is_train'] == True], combined[combined['is_train'] == False]\n",
      "features = [col for col in combined.columns if 'Lag1' in col]\n",
      "\n",
      "y = train[['School1_PTS','School2_PTS']]\n",
      "clf = RandomForestClassifier(n_jobs=2)\n",
      "\n",
      "clf.fit(train[features],y)\n",
      "preds = clf.predict(test[features])"
     ],
     "language": "python",
     "metadata": {},
     "outputs": [],
     "prompt_number": 83
    },
    {
     "cell_type": "code",
     "collapsed": false,
     "input": [
      "print (preds[:15])"
     ],
     "language": "python",
     "metadata": {},
     "outputs": [
      {
       "output_type": "stream",
       "stream": "stdout",
       "text": [
        "[[ 66.  61.]\n",
        " [ 44.  79.]\n",
        " [ 64.  62.]\n",
        " [ 62.  77.]\n",
        " [ 50.  83.]\n",
        " [ 68.  79.]\n",
        " [ 42.  45.]\n",
        " [ 51.  61.]\n",
        " [ 52.  62.]\n",
        " [ 52.  68.]\n",
        " [ 55.  73.]\n",
        " [ 61.  87.]\n",
        " [ 59.  69.]\n",
        " [ 75.  58.]\n",
        " [ 61.  79.]]\n"
       ]
      }
     ],
     "prompt_number": 84
    },
    {
     "cell_type": "code",
     "collapsed": false,
     "input": [
      "test[['School1_PTS','School2_PTS']].head(15)"
     ],
     "language": "python",
     "metadata": {},
     "outputs": [
      {
       "output_type": "stream",
       "stream": "stderr",
       "text": [
        "/Users/tylerfolkman/anaconda/lib/python2.7/site-packages/pandas/core/config.py:570: DeprecationWarning: height has been deprecated.\n",
        "\n",
        "  warnings.warn(d.msg, DeprecationWarning)\n",
        "/Users/tylerfolkman/anaconda/lib/python2.7/site-packages/pandas/core/config.py:570: DeprecationWarning: height has been deprecated.\n",
        "\n",
        "  warnings.warn(d.msg, DeprecationWarning)\n"
       ]
      },
      {
       "html": [
        "<div style=\"max-height:1000px;max-width:1500px;overflow:auto;\">\n",
        "<table border=\"1\" class=\"dataframe\">\n",
        "  <thead>\n",
        "    <tr style=\"text-align: right;\">\n",
        "      <th></th>\n",
        "      <th>School1_PTS</th>\n",
        "      <th>School2_PTS</th>\n",
        "    </tr>\n",
        "    <tr>\n",
        "      <th>Date</th>\n",
        "      <th></th>\n",
        "      <th></th>\n",
        "    </tr>\n",
        "  </thead>\n",
        "  <tbody>\n",
        "    <tr>\n",
        "      <th>2013-11-11</th>\n",
        "      <td> 47</td>\n",
        "      <td> 75</td>\n",
        "    </tr>\n",
        "    <tr>\n",
        "      <th>2013-11-19</th>\n",
        "      <td> 64</td>\n",
        "      <td> 71</td>\n",
        "    </tr>\n",
        "    <tr>\n",
        "      <th>2013-11-25</th>\n",
        "      <td> 65</td>\n",
        "      <td> 93</td>\n",
        "    </tr>\n",
        "    <tr>\n",
        "      <th>2013-11-30</th>\n",
        "      <td> 47</td>\n",
        "      <td> 74</td>\n",
        "    </tr>\n",
        "    <tr>\n",
        "      <th>2013-03-06</th>\n",
        "      <td> 51</td>\n",
        "      <td> 58</td>\n",
        "    </tr>\n",
        "    <tr>\n",
        "      <th>2013-03-23</th>\n",
        "      <td> 57</td>\n",
        "      <td> 78</td>\n",
        "    </tr>\n",
        "    <tr>\n",
        "      <th>2013-11-09</th>\n",
        "      <td> 63</td>\n",
        "      <td> 71</td>\n",
        "    </tr>\n",
        "    <tr>\n",
        "      <th>2013-12-21</th>\n",
        "      <td> 74</td>\n",
        "      <td> 80</td>\n",
        "    </tr>\n",
        "    <tr>\n",
        "      <th>2013-12-28</th>\n",
        "      <td> 45</td>\n",
        "      <td> 78</td>\n",
        "    </tr>\n",
        "    <tr>\n",
        "      <th>2013-02-12</th>\n",
        "      <td> 52</td>\n",
        "      <td> 45</td>\n",
        "    </tr>\n",
        "    <tr>\n",
        "      <th>2013-02-23</th>\n",
        "      <td> 94</td>\n",
        "      <td> 97</td>\n",
        "    </tr>\n",
        "    <tr>\n",
        "      <th>2013-03-02</th>\n",
        "      <td> 52</td>\n",
        "      <td> 64</td>\n",
        "    </tr>\n",
        "    <tr>\n",
        "      <th>2013-03-05</th>\n",
        "      <td> 83</td>\n",
        "      <td> 87</td>\n",
        "    </tr>\n",
        "    <tr>\n",
        "      <th>2013-01-06</th>\n",
        "      <td> 68</td>\n",
        "      <td> 79</td>\n",
        "    </tr>\n",
        "    <tr>\n",
        "      <th>2013-12-03</th>\n",
        "      <td> 66</td>\n",
        "      <td> 65</td>\n",
        "    </tr>\n",
        "  </tbody>\n",
        "</table>\n",
        "</div>"
       ],
       "metadata": {},
       "output_type": "pyout",
       "prompt_number": 85,
       "text": [
        "            School1_PTS  School2_PTS\n",
        "Date                                \n",
        "2013-11-11           47           75\n",
        "2013-11-19           64           71\n",
        "2013-11-25           65           93\n",
        "2013-11-30           47           74\n",
        "2013-03-06           51           58\n",
        "2013-03-23           57           78\n",
        "2013-11-09           63           71\n",
        "2013-12-21           74           80\n",
        "2013-12-28           45           78\n",
        "2013-02-12           52           45\n",
        "2013-02-23           94           97\n",
        "2013-03-02           52           64\n",
        "2013-03-05           83           87\n",
        "2013-01-06           68           79\n",
        "2013-12-03           66           65"
       ]
      }
     ],
     "prompt_number": 85
    },
    {
     "cell_type": "code",
     "collapsed": false,
     "input": [],
     "language": "python",
     "metadata": {},
     "outputs": [
      {
       "metadata": {},
       "output_type": "pyout",
       "prompt_number": 72,
       "text": [
        "(1191, 33)"
       ]
      }
     ],
     "prompt_number": 72
    },
    {
     "cell_type": "code",
     "collapsed": false,
     "input": [],
     "language": "python",
     "metadata": {},
     "outputs": [],
     "prompt_number": 70
    },
    {
     "cell_type": "code",
     "collapsed": false,
     "input": [],
     "language": "python",
     "metadata": {},
     "outputs": [],
     "prompt_number": 70
    },
    {
     "cell_type": "code",
     "collapsed": false,
     "input": [],
     "language": "python",
     "metadata": {},
     "outputs": [],
     "prompt_number": 63
    },
    {
     "cell_type": "code",
     "collapsed": false,
     "input": [],
     "language": "python",
     "metadata": {},
     "outputs": [],
     "prompt_number": 63
    },
    {
     "cell_type": "code",
     "collapsed": false,
     "input": [],
     "language": "python",
     "metadata": {},
     "outputs": []
    }
   ],
   "metadata": {}
  }
 ]
}