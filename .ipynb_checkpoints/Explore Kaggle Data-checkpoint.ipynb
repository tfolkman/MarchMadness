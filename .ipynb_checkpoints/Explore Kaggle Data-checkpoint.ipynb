{
 "metadata": {
  "name": ""
 },
 "nbformat": 3,
 "nbformat_minor": 0,
 "worksheets": [
  {
   "cells": [
    {
     "cell_type": "code",
     "collapsed": false,
     "input": [
      "import pandas as pd\n",
      "%matplotlib inline"
     ],
     "language": "python",
     "metadata": {},
     "outputs": [],
     "prompt_number": 97
    },
    {
     "cell_type": "code",
     "collapsed": false,
     "input": [
      "tResults = pd.read_csv(\"./Raw Data/tourney_results.csv\")\n",
      "tSeeds = pd.read_csv(\"./Raw Data/tourney_seeds.csv\")\n",
      "season = pd.read_csv(\"./Raw Data/regular_season_results.csv\")"
     ],
     "language": "python",
     "metadata": {},
     "outputs": [],
     "prompt_number": 91
    },
    {
     "cell_type": "code",
     "collapsed": false,
     "input": [
      "#MERGE ON SEED TO RESULTS\n",
      "\n",
      "tResults.rename(columns={'wteam':'team'},inplace=True)\n",
      "tResults2 = pd.merge(tResults,tSeeds,how='left',on=['season','team'])\n",
      "tResults2.rename(columns={'team':'wteam','lteam':'team','seed':'wseed'},inplace=True)\n",
      "tResults2 = pd.merge(tResults2,tSeeds,how='left',on=['season','team'])\n",
      "tResults2.rename(columns={'team':'lteam','seed':'lseed'},inplace=True)"
     ],
     "language": "python",
     "metadata": {},
     "outputs": [],
     "prompt_number": 3
    },
    {
     "cell_type": "code",
     "collapsed": false,
     "input": [
      "#GET NUMBER PART OF SEED\n",
      "\n",
      "tResults2['wrank'] = tResults2['wseed'].str.extract('(\\d+)').str.replace('^0','').astype('float')\n",
      "tResults2['lrank'] = tResults2['lseed'].str.extract('(\\d+)').str.replace('^0','').astype('float')"
     ],
     "language": "python",
     "metadata": {},
     "outputs": [
      {
       "html": [
        "<div style=\"max-height:1000px;max-width:1500px;overflow:auto;\">\n",
        "<table border=\"1\" class=\"dataframe\">\n",
        "  <thead>\n",
        "    <tr style=\"text-align: right;\">\n",
        "      <th></th>\n",
        "      <th>season</th>\n",
        "      <th>daynum</th>\n",
        "      <th>wteam</th>\n",
        "      <th>wscore</th>\n",
        "      <th>lteam</th>\n",
        "      <th>lscore</th>\n",
        "      <th>numot</th>\n",
        "      <th>wseed</th>\n",
        "      <th>lseed</th>\n",
        "      <th>wrank</th>\n",
        "      <th>lrank</th>\n",
        "    </tr>\n",
        "  </thead>\n",
        "  <tbody>\n",
        "    <tr>\n",
        "      <th>0</th>\n",
        "      <td> A</td>\n",
        "      <td> 136</td>\n",
        "      <td> 515</td>\n",
        "      <td> 86</td>\n",
        "      <td> 729</td>\n",
        "      <td> 80</td>\n",
        "      <td>NaN</td>\n",
        "      <td> W12</td>\n",
        "      <td> W05</td>\n",
        "      <td> 12</td>\n",
        "      <td>  5</td>\n",
        "    </tr>\n",
        "    <tr>\n",
        "      <th>1</th>\n",
        "      <td> A</td>\n",
        "      <td> 138</td>\n",
        "      <td> 515</td>\n",
        "      <td> 65</td>\n",
        "      <td> 660</td>\n",
        "      <td> 56</td>\n",
        "      <td>NaN</td>\n",
        "      <td> W12</td>\n",
        "      <td> W04</td>\n",
        "      <td> 12</td>\n",
        "      <td>  4</td>\n",
        "    </tr>\n",
        "    <tr>\n",
        "      <th>2</th>\n",
        "      <td> A</td>\n",
        "      <td> 136</td>\n",
        "      <td> 559</td>\n",
        "      <td> 68</td>\n",
        "      <td> 555</td>\n",
        "      <td> 59</td>\n",
        "      <td>NaN</td>\n",
        "      <td> Y01</td>\n",
        "      <td> Y16</td>\n",
        "      <td>  1</td>\n",
        "      <td> 16</td>\n",
        "    </tr>\n",
        "    <tr>\n",
        "      <th>3</th>\n",
        "      <td> A</td>\n",
        "      <td> 138</td>\n",
        "      <td> 559</td>\n",
        "      <td> 95</td>\n",
        "      <td> 581</td>\n",
        "      <td> 81</td>\n",
        "      <td>NaN</td>\n",
        "      <td> Y01</td>\n",
        "      <td> Y09</td>\n",
        "      <td>  1</td>\n",
        "      <td>  9</td>\n",
        "    </tr>\n",
        "    <tr>\n",
        "      <th>4</th>\n",
        "      <td> A</td>\n",
        "      <td> 136</td>\n",
        "      <td> 576</td>\n",
        "      <td> 75</td>\n",
        "      <td> 666</td>\n",
        "      <td> 63</td>\n",
        "      <td>NaN</td>\n",
        "      <td> Z12</td>\n",
        "      <td> Z05</td>\n",
        "      <td> 12</td>\n",
        "      <td>  5</td>\n",
        "    </tr>\n",
        "  </tbody>\n",
        "</table>\n",
        "<p>5 rows \u00d7 11 columns</p>\n",
        "</div>"
       ],
       "metadata": {},
       "output_type": "pyout",
       "prompt_number": 4,
       "text": [
        "  season  daynum  wteam  wscore  lteam  lscore  numot wseed lseed  wrank  \\\n",
        "0      A     136    515      86    729      80    NaN   W12   W05     12   \n",
        "1      A     138    515      65    660      56    NaN   W12   W04     12   \n",
        "2      A     136    559      68    555      59    NaN   Y01   Y16      1   \n",
        "3      A     138    559      95    581      81    NaN   Y01   Y09      1   \n",
        "4      A     136    576      75    666      63    NaN   Z12   Z05     12   \n",
        "\n",
        "   lrank  \n",
        "0      5  \n",
        "1      4  \n",
        "2     16  \n",
        "3      9  \n",
        "4      5  \n",
        "\n",
        "[5 rows x 11 columns]"
       ]
      }
     ],
     "prompt_number": 4
    },
    {
     "cell_type": "code",
     "collapsed": false,
     "input": [
      "#FUNCTION TO GET CHANCE OF WINNING GIVEN OPPONENT RANKING\n",
      "\n",
      "def probwingivenrank(framein):\n",
      "    rankGroup = framein.groupby(['wrank','lrank'])\n",
      "    rankGroup2 = framein.groupby(['lrank','wrank'])\n",
      "    rankGroup = rankGroup.size().unstack()\n",
      "    rankGroupSum = rankGroup + rankGroup2.size().unstack().fillna(0)\n",
      "    wPct = rankGroup.div(rankGroupSum).fillna(.5)\n",
      "    return wPct"
     ],
     "language": "python",
     "metadata": {},
     "outputs": [],
     "prompt_number": 70
    },
    {
     "cell_type": "code",
     "collapsed": false,
     "input": [
      "wPct = probwingivenrank(tResults2[tResults2.season != \"R\"])"
     ],
     "language": "python",
     "metadata": {},
     "outputs": [],
     "prompt_number": 71
    },
    {
     "cell_type": "code",
     "collapsed": false,
     "input": [
      "wPct.xs(12).xs(5,axis=1)"
     ],
     "language": "python",
     "metadata": {},
     "outputs": [
      {
       "metadata": {},
       "output_type": "pyout",
       "prompt_number": 75,
       "text": [
        "0.38235294117647056"
       ]
      }
     ],
     "prompt_number": 75
    },
    {
     "cell_type": "code",
     "collapsed": false,
     "input": [
      "season['wMargin'] = season['wscore'] - season['lscore']"
     ],
     "language": "python",
     "metadata": {},
     "outputs": [],
     "prompt_number": 93
    },
    {
     "cell_type": "code",
     "collapsed": false,
     "input": [
      "season['wMargin'].describe()"
     ],
     "language": "python",
     "metadata": {},
     "outputs": [
      {
       "metadata": {},
       "output_type": "pyout",
       "prompt_number": 102,
       "text": [
        "count    85862.000000\n",
        "mean        12.193578\n",
        "std          9.384931\n",
        "min          1.000000\n",
        "25%          5.000000\n",
        "50%         10.000000\n",
        "75%         17.000000\n",
        "max         91.000000\n",
        "Name: wMargin, dtype: float64"
       ]
      }
     ],
     "prompt_number": 102
    },
    {
     "cell_type": "code",
     "collapsed": false,
     "input": [],
     "language": "python",
     "metadata": {},
     "outputs": []
    }
   ],
   "metadata": {}
  }
 ]
}